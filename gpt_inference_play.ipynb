{
 "cells": [
  {
   "cell_type": "code",
   "execution_count": 1,
   "metadata": {},
   "outputs": [
    {
     "name": "stderr",
     "output_type": "stream",
     "text": [
      "C:\\Users\\Zen\\AppData\\Local\\Temp\\ipykernel_36756\\4245642960.py:40: FutureWarning: You are using `torch.load` with `weights_only=False` (the current default value), which uses the default pickle module implicitly. It is possible to construct malicious pickle data which will execute arbitrary code during unpickling (See https://github.com/pytorch/pytorch/blob/main/SECURITY.md#untrusted-models for more details). In a future release, the default value for `weights_only` will be flipped to `True`. This limits the functions that could be executed during unpickling. Arbitrary objects will no longer be allowed to be loaded via this mode unless they are explicitly allowlisted by the user via `torch.serialization.add_safe_globals`. We recommend you start setting `weights_only=True` for any use case where you don't have full control of the loaded file. Please open an issue on GitHub for any issues related to this experimental feature.\n",
      "  gpt_state = torch.load (gpt_model_checkpoint)\n",
      "C:\\Users\\Zen\\AppData\\Local\\Temp\\ipykernel_36756\\4245642960.py:42: FutureWarning: You are using `torch.load` with `weights_only=False` (the current default value), which uses the default pickle module implicitly. It is possible to construct malicious pickle data which will execute arbitrary code during unpickling (See https://github.com/pytorch/pytorch/blob/main/SECURITY.md#untrusted-models for more details). In a future release, the default value for `weights_only` will be flipped to `True`. This limits the functions that could be executed during unpickling. Arbitrary objects will no longer be allowed to be loaded via this mode unless they are explicitly allowlisted by the user via `torch.serialization.add_safe_globals`. We recommend you start setting `weights_only=True` for any use case where you don't have full control of the loaded file. Please open an issue on GitHub for any issues related to this experimental feature.\n",
      "  vqgan_state = torch.load (vqgan_checkpoint)\n"
     ]
    }
   ],
   "source": [
    "import torch\n",
    "import torch.nn as nn\n",
    "import torch.nn.functional as F\n",
    "\n",
    "from gpt import GPT, GPTConfig\n",
    "from resnet_vqgan import VQGan\n",
    "from quantizer import QuantizerConfig\n",
    "from data_utils import DataUtils, Data_Utils_Config\n",
    "import os\n",
    "import time\n",
    "\n",
    "# pretrained gpt model\n",
    "gpt_model_checkpoint = \"./logs/model_30000.pt\"\n",
    "vqgan_checkpoint = \"./vqgan checkpoints/model_100000.pt\"\n",
    "play_inference_path = \"play_inferences\"\n",
    "os.makedirs (play_inference_path, exist_ok=True)\n",
    "forward_batch_size = 8\n",
    "inference_batches = 13\n",
    "START_TOKEN = 8192\n",
    "MAX_LENGTH = 257\n",
    "\n",
    "torch.manual_seed(1337)\n",
    "if torch.cuda.is_available():\n",
    "    torch.cuda.manual_seed(1337)\n",
    "\n",
    "device = 'cpu'\n",
    "if torch.cuda.is_available():\n",
    "    device = 'cuda'\n",
    "elif hasattr (torch.backends, 'mps') and torch.backends.mps.is_available():\n",
    "    device = 'mps'\n",
    "sample_rng = torch.Generator(device=device)\n",
    "\n",
    "# the model was trained on vocab_size of 8200 despite the original total vocab_size being\n",
    "# 8192 vqgan tokens + 1 start token to optimize kernel blocks on GPUs with nice numbers\n",
    "with torch.no_grad():\n",
    "    gpt = GPT (GPTConfig(vocab_size=8200)).eval()\n",
    "    vqgan = VQGan().eval()\n",
    "    vqgan.to(device)\n",
    "    gpt.to(device)\n",
    "    gpt_state = torch.load (gpt_model_checkpoint)\n",
    "    gpt.load_state_dict (gpt_state['model'])\n",
    "    vqgan_state = torch.load (vqgan_checkpoint)\n",
    "    vqgan.load_state_dict (vqgan_state['vqgan_model'])\n",
    "\n",
    "    shard_util = DataUtils(Data_Utils_Config)\n",
    "\n"
   ]
  },
  {
   "cell_type": "code",
   "execution_count": 4,
   "metadata": {},
   "outputs": [],
   "source": [
    "for _ in range (inference_batches):\n",
    "    with torch.no_grad ():\n",
    "        sample_rng.manual_seed(int(time.time()))\n",
    "        xgen = torch.tensor(START_TOKEN).repeat (forward_batch_size, 1).to (device)\n",
    "\n",
    "        while xgen.size(1) < MAX_LENGTH:\n",
    "\n",
    "            with torch.autocast (device_type=device, dtype=torch.bfloat16):\n",
    "                logits, loss = gpt (xgen)\n",
    "            logits = logits[:, -1, :]\n",
    "            probs = F.softmax (logits, dim=-1)\n",
    "            topk_probs, topk_indices = torch.topk (probs, 50, dim=-1)\n",
    "            ix = torch.multinomial (topk_probs, 1, generator=sample_rng)\n",
    "            xcol = torch.gather (topk_indices, -1, ix)\n",
    "            xgen = torch.cat ((xgen, xcol), dim=-1)\n",
    "\n",
    "        # drop the start token\n",
    "        xgen = xgen [:, 1:] # B, 256\n",
    "        latent_vectors = vqgan.quantizer.codebook(xgen) # B, 256, 1024\n",
    "        # prepare for decoder pass\n",
    "        latent_vectors = latent_vectors.view (forward_batch_size, QuantizerConfig.latent_resolution, QuantizerConfig.latent_resolution, QuantizerConfig.n_embd)\n",
    "        latent_vectors = latent_vectors.permute (0, 3, 1, 2).contiguous()\n",
    "        \n",
    "        # forward onto decoder\n",
    "        post_quant_activation = vqgan.post_quant_conv(latent_vectors)\n",
    "        images = vqgan.decoder(post_quant_activation)\n",
    "        shard_util.tensor_to_image (images, play_inference_path, \"neural\")\n"
   ]
  },
  {
   "cell_type": "code",
   "execution_count": 7,
   "metadata": {},
   "outputs": [
    {
     "data": {
      "text/plain": [
       "91550208"
      ]
     },
     "execution_count": 7,
     "metadata": {},
     "output_type": "execute_result"
    }
   ],
   "source": [
    "# GPT2 params 91.5M\n",
    "from gpt import GPT, GPTConfig\n",
    "m2 = GPT (GPTConfig(vocab_size=8200))\n",
    "a = sum (p.numel() for p in m2.parameters())\n",
    "a"
   ]
  },
  {
   "cell_type": "code",
   "execution_count": 8,
   "metadata": {},
   "outputs": [
    {
     "data": {
      "text/plain": [
       "105186275"
      ]
     },
     "execution_count": 8,
     "metadata": {},
     "output_type": "execute_result"
    }
   ],
   "source": [
    "# VQGAN params 105M\n",
    "from resnet_vqgan import VQGan\n",
    "vq = VQGan()\n",
    "a = sum (p.numel() for p in vq.parameters())\n",
    "a"
   ]
  },
  {
   "cell_type": "code",
   "execution_count": 9,
   "metadata": {},
   "outputs": [
    {
     "data": {
      "text/plain": [
       "2766529"
      ]
     },
     "execution_count": 9,
     "metadata": {},
     "output_type": "execute_result"
    }
   ],
   "source": [
    "# disc params = 2.7 M\n",
    "from discriminator import Discriminator, DiscriminatorConfig\n",
    "d = Discriminator (DiscriminatorConfig)\n",
    "a = sum (p.numel() for p in d.parameters())\n",
    "a"
   ]
  },
  {
   "cell_type": "code",
   "execution_count": null,
   "metadata": {},
   "outputs": [],
   "source": []
  }
 ],
 "metadata": {
  "kernelspec": {
   "display_name": "tr",
   "language": "python",
   "name": "python3"
  },
  "language_info": {
   "codemirror_mode": {
    "name": "ipython",
    "version": 3
   },
   "file_extension": ".py",
   "mimetype": "text/x-python",
   "name": "python",
   "nbconvert_exporter": "python",
   "pygments_lexer": "ipython3",
   "version": "3.9.21"
  }
 },
 "nbformat": 4,
 "nbformat_minor": 2
}
