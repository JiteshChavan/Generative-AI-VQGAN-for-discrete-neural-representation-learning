{
 "cells": [
  {
   "cell_type": "markdown",
   "metadata": {},
   "source": [
    "### Data_Utils testrun\n",
    "- Preprocess imagesin in RawTest, store to pre_procced\n",
    "- normalize images in pre_procced and store to test_shards\n",
    "- load shard from test_shards and reconstruct in folder \"recons\""
   ]
  },
  {
   "cell_type": "code",
   "execution_count": 1,
   "metadata": {},
   "outputs": [
    {
     "name": "stdout",
     "output_type": "stream",
     "text": [
      "128 Images Processed and saved to: ./dummy_tests/pre_procced (assuming all were images in the 3 supported format)\n",
      "Saved shard 000 with 64 images.\n",
      "Saved shard 001 with 64 images.\n",
      "All images processed and saved in ./dummy_tests/test_shards.\n"
     ]
    }
   ],
   "source": [
    "from data_utils import Data_Utils_Config, DataUtils\n",
    "import torch\n",
    "import numpy as np\n",
    "\n",
    "def load_tokens (filename):\n",
    "    npt = np.load (filename)\n",
    "    ptt = torch.from_numpy (npt).permute (0, 3, 1, 2)\n",
    "    return ptt\n",
    "\n",
    "data_util = DataUtils (Data_Utils_Config(downscale_res=256))\n",
    "data_util.preprocess_images_in_folder (\"./dummy_tests/RawTest\", dest=\"./dummy_tests/pre_procced\")\n",
    "data_util.normalized_images_to_shards (\"./dummy_tests/pre_procced\", dest_shards=\"./dummy_tests/test_shards\", shard_batch_size=64)\n"
   ]
  },
  {
   "cell_type": "code",
   "execution_count": null,
   "metadata": {},
   "outputs": [
    {
     "name": "stdout",
     "output_type": "stream",
     "text": [
      "loading shard ./dummy_tests/test_shards\\shard_train_0001.npy\n",
      "saved ./dummy_tests/recons/clone_0000.png\n",
      "saved ./dummy_tests/recons/clone_0000.png\n",
      "saved ./dummy_tests/recons/clone_0000.png\n",
      "saved ./dummy_tests/recons/clone_0000.png\n",
      "saved ./dummy_tests/recons/clone_0000.png\n",
      "saved ./dummy_tests/recons/clone_0000.png\n",
      "saved ./dummy_tests/recons/clone_0000.png\n",
      "saved ./dummy_tests/recons/clone_0000.png\n",
      "saved ./dummy_tests/recons/clone_0000.png\n",
      "saved ./dummy_tests/recons/clone_0000.png\n",
      "saved ./dummy_tests/recons/clone_0000.png\n",
      "saved ./dummy_tests/recons/clone_0000.png\n",
      "saved ./dummy_tests/recons/clone_0000.png\n",
      "saved ./dummy_tests/recons/clone_0000.png\n",
      "saved ./dummy_tests/recons/clone_0000.png\n",
      "saved ./dummy_tests/recons/clone_0000.png\n",
      "saved ./dummy_tests/recons/clone_0000.png\n",
      "saved ./dummy_tests/recons/clone_0000.png\n",
      "saved ./dummy_tests/recons/clone_0000.png\n",
      "saved ./dummy_tests/recons/clone_0000.png\n",
      "saved ./dummy_tests/recons/clone_0000.png\n",
      "saved ./dummy_tests/recons/clone_0000.png\n",
      "saved ./dummy_tests/recons/clone_0000.png\n",
      "saved ./dummy_tests/recons/clone_0000.png\n",
      "saved ./dummy_tests/recons/clone_0000.png\n",
      "saved ./dummy_tests/recons/clone_0000.png\n",
      "saved ./dummy_tests/recons/clone_0000.png\n",
      "saved ./dummy_tests/recons/clone_0000.png\n",
      "saved ./dummy_tests/recons/clone_0000.png\n",
      "saved ./dummy_tests/recons/clone_0000.png\n",
      "saved ./dummy_tests/recons/clone_0000.png\n",
      "saved ./dummy_tests/recons/clone_0000.png\n",
      "saved ./dummy_tests/recons/clone_0000.png\n",
      "saved ./dummy_tests/recons/clone_0000.png\n",
      "saved ./dummy_tests/recons/clone_0000.png\n",
      "saved ./dummy_tests/recons/clone_0000.png\n",
      "saved ./dummy_tests/recons/clone_0000.png\n",
      "saved ./dummy_tests/recons/clone_0000.png\n",
      "saved ./dummy_tests/recons/clone_0000.png\n",
      "saved ./dummy_tests/recons/clone_0000.png\n",
      "saved ./dummy_tests/recons/clone_0000.png\n",
      "saved ./dummy_tests/recons/clone_0000.png\n",
      "saved ./dummy_tests/recons/clone_0000.png\n",
      "saved ./dummy_tests/recons/clone_0000.png\n",
      "saved ./dummy_tests/recons/clone_0000.png\n",
      "saved ./dummy_tests/recons/clone_0000.png\n",
      "saved ./dummy_tests/recons/clone_0000.png\n",
      "saved ./dummy_tests/recons/clone_0000.png\n",
      "saved ./dummy_tests/recons/clone_0000.png\n",
      "saved ./dummy_tests/recons/clone_0000.png\n",
      "saved ./dummy_tests/recons/clone_0000.png\n",
      "saved ./dummy_tests/recons/clone_0000.png\n",
      "saved ./dummy_tests/recons/clone_0000.png\n",
      "saved ./dummy_tests/recons/clone_0000.png\n",
      "saved ./dummy_tests/recons/clone_0000.png\n",
      "saved ./dummy_tests/recons/clone_0000.png\n",
      "saved ./dummy_tests/recons/clone_0000.png\n",
      "saved ./dummy_tests/recons/clone_0000.png\n",
      "saved ./dummy_tests/recons/clone_0000.png\n",
      "saved ./dummy_tests/recons/clone_0000.png\n",
      "saved ./dummy_tests/recons/clone_0000.png\n",
      "saved ./dummy_tests/recons/clone_0000.png\n",
      "saved ./dummy_tests/recons/clone_0000.png\n",
      "saved ./dummy_tests/recons/clone_0000.png\n",
      "torch.float16 torch.Size([64, 3, 256, 256])\n",
      "loading shard ./dummy_tests/test_shards\\shard_val_0000.npy\n",
      "saved ./dummy_tests/recons/clone_0001.png\n",
      "saved ./dummy_tests/recons/clone_0001.png\n",
      "saved ./dummy_tests/recons/clone_0001.png\n",
      "saved ./dummy_tests/recons/clone_0001.png\n",
      "saved ./dummy_tests/recons/clone_0001.png\n",
      "saved ./dummy_tests/recons/clone_0001.png\n",
      "saved ./dummy_tests/recons/clone_0001.png\n",
      "saved ./dummy_tests/recons/clone_0001.png\n",
      "saved ./dummy_tests/recons/clone_0001.png\n",
      "saved ./dummy_tests/recons/clone_0001.png\n",
      "saved ./dummy_tests/recons/clone_0001.png\n",
      "saved ./dummy_tests/recons/clone_0001.png\n",
      "saved ./dummy_tests/recons/clone_0001.png\n",
      "saved ./dummy_tests/recons/clone_0001.png\n",
      "saved ./dummy_tests/recons/clone_0001.png\n",
      "saved ./dummy_tests/recons/clone_0001.png\n",
      "saved ./dummy_tests/recons/clone_0001.png\n",
      "saved ./dummy_tests/recons/clone_0001.png\n",
      "saved ./dummy_tests/recons/clone_0001.png\n",
      "saved ./dummy_tests/recons/clone_0001.png\n",
      "saved ./dummy_tests/recons/clone_0001.png\n",
      "saved ./dummy_tests/recons/clone_0001.png\n",
      "saved ./dummy_tests/recons/clone_0001.png\n",
      "saved ./dummy_tests/recons/clone_0001.png\n",
      "saved ./dummy_tests/recons/clone_0001.png\n",
      "saved ./dummy_tests/recons/clone_0001.png\n",
      "saved ./dummy_tests/recons/clone_0001.png\n",
      "saved ./dummy_tests/recons/clone_0001.png\n",
      "saved ./dummy_tests/recons/clone_0001.png\n",
      "saved ./dummy_tests/recons/clone_0001.png\n",
      "saved ./dummy_tests/recons/clone_0001.png\n",
      "saved ./dummy_tests/recons/clone_0001.png\n",
      "saved ./dummy_tests/recons/clone_0001.png\n",
      "saved ./dummy_tests/recons/clone_0001.png\n",
      "saved ./dummy_tests/recons/clone_0001.png\n",
      "saved ./dummy_tests/recons/clone_0001.png\n",
      "saved ./dummy_tests/recons/clone_0001.png\n",
      "saved ./dummy_tests/recons/clone_0001.png\n",
      "saved ./dummy_tests/recons/clone_0001.png\n",
      "saved ./dummy_tests/recons/clone_0001.png\n",
      "saved ./dummy_tests/recons/clone_0001.png\n",
      "saved ./dummy_tests/recons/clone_0001.png\n",
      "saved ./dummy_tests/recons/clone_0001.png\n",
      "saved ./dummy_tests/recons/clone_0001.png\n",
      "saved ./dummy_tests/recons/clone_0001.png\n",
      "saved ./dummy_tests/recons/clone_0001.png\n",
      "saved ./dummy_tests/recons/clone_0001.png\n",
      "saved ./dummy_tests/recons/clone_0001.png\n",
      "saved ./dummy_tests/recons/clone_0001.png\n",
      "saved ./dummy_tests/recons/clone_0001.png\n",
      "saved ./dummy_tests/recons/clone_0001.png\n",
      "saved ./dummy_tests/recons/clone_0001.png\n",
      "saved ./dummy_tests/recons/clone_0001.png\n",
      "saved ./dummy_tests/recons/clone_0001.png\n",
      "saved ./dummy_tests/recons/clone_0001.png\n",
      "saved ./dummy_tests/recons/clone_0001.png\n",
      "saved ./dummy_tests/recons/clone_0001.png\n",
      "saved ./dummy_tests/recons/clone_0001.png\n",
      "saved ./dummy_tests/recons/clone_0001.png\n",
      "saved ./dummy_tests/recons/clone_0001.png\n",
      "saved ./dummy_tests/recons/clone_0001.png\n",
      "saved ./dummy_tests/recons/clone_0001.png\n",
      "saved ./dummy_tests/recons/clone_0001.png\n",
      "saved ./dummy_tests/recons/clone_0001.png\n",
      "torch.float16 torch.Size([64, 3, 256, 256])\n"
     ]
    }
   ],
   "source": [
    "import os\n",
    "src_shards = \"./dummy_tests/test_shards\"\n",
    "shards = []\n",
    "shards = (os.listdir(src_shards))\n",
    "\n",
    "\n",
    "\n",
    "for i, shard in enumerate(shards):\n",
    "    shard_path = os.path.join (src_shards, shard)\n",
    "    print (f\"loading shard {shard_path}\")\n",
    "    tokens = load_tokens (shard_path)\n",
    "    data_util.tensor_to_image (tokens, \"./dummy_tests/recons\", \"clone\")\n",
    "    data_util.tensor_to_image (tokens, \"./dummy_tests/recons\", \"neural\")\n",
    "    print (tokens.dtype, tokens.shape)"
   ]
  },
  {
   "cell_type": "code",
   "execution_count": 3,
   "metadata": {},
   "outputs": [
    {
     "data": {
      "text/plain": [
       "torch.Size([51, 3, 256, 256])"
      ]
     },
     "execution_count": 3,
     "metadata": {},
     "output_type": "execute_result"
    }
   ],
   "source": [
    "buf = tokens[0: 0+64]\n",
    "buf.shape"
   ]
  },
  {
   "cell_type": "code",
   "execution_count": 4,
   "metadata": {},
   "outputs": [
    {
     "data": {
      "text/plain": [
       "51"
      ]
     },
     "execution_count": 4,
     "metadata": {},
     "output_type": "execute_result"
    }
   ],
   "source": [
    "len(buf)"
   ]
  },
  {
   "cell_type": "code",
   "execution_count": 7,
   "metadata": {},
   "outputs": [
    {
     "data": {
      "text/plain": [
       "(torch.Size([5, 3, 256, 256]), torch.Size([5, 3, 256, 256]))"
      ]
     },
     "execution_count": 7,
     "metadata": {},
     "output_type": "execute_result"
    }
   ],
   "source": [
    "buf[0:5].shape, buf[5:10].shape"
   ]
  },
  {
   "cell_type": "code",
   "execution_count": 13,
   "metadata": {},
   "outputs": [],
   "source": [
    "a = torch.randn (64)\n",
    "b = a [0:555]"
   ]
  },
  {
   "cell_type": "code",
   "execution_count": 15,
   "metadata": {},
   "outputs": [
    {
     "data": {
      "text/plain": [
       "torch.Size([64])"
      ]
     },
     "execution_count": 15,
     "metadata": {},
     "output_type": "execute_result"
    }
   ],
   "source": [
    "b.shape"
   ]
  },
  {
   "cell_type": "code",
   "execution_count": 18,
   "metadata": {},
   "outputs": [
    {
     "data": {
      "text/plain": [
       "tensor(0.0541)"
      ]
     },
     "execution_count": 18,
     "metadata": {},
     "output_type": "execute_result"
    }
   ],
   "source": [
    "a= torch.randn (30, 30, 1)\n",
    "torch.mean(a)"
   ]
  },
  {
   "cell_type": "code",
   "execution_count": null,
   "metadata": {},
   "outputs": [],
   "source": []
  }
 ],
 "metadata": {
  "kernelspec": {
   "display_name": "tr",
   "language": "python",
   "name": "python3"
  },
  "language_info": {
   "codemirror_mode": {
    "name": "ipython",
    "version": 3
   },
   "file_extension": ".py",
   "mimetype": "text/x-python",
   "name": "python",
   "nbconvert_exporter": "python",
   "pygments_lexer": "ipython3",
   "version": "3.9.21"
  }
 },
 "nbformat": 4,
 "nbformat_minor": 2
}
