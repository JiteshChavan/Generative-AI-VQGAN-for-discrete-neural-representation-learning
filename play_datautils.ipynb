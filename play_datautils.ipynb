{
 "cells": [
  {
   "cell_type": "markdown",
   "metadata": {},
   "source": [
    "### Data_Utils testrun\n",
    "- Preprocess imagesin in RawTest, store to pre_procced\n",
    "- normalize images in pre_procced and store to test_shards\n",
    "- load shard from test_shards and reconstruct in folder \"recons\""
   ]
  },
  {
   "cell_type": "code",
   "execution_count": 1,
   "metadata": {},
   "outputs": [
    {
     "name": "stdout",
     "output_type": "stream",
     "text": [
      "128 Images Processed and saved to: ./dummy_tests/pre_procced (assuming all were images in the 3 supported format)\n",
      "Saved shard 000 with 51 images.\n",
      "Saved shard 001 with 51 images.\n",
      "Saved shard 002 with remaining images.\n",
      "All images processed and saved in ./dummy_tests/test_shards.\n"
     ]
    }
   ],
   "source": [
    "from data_utils import Data_Utils_Config, DataUtils\n",
    "import torch\n",
    "import numpy as np\n",
    "\n",
    "def load_tokens (filename):\n",
    "    npt = np.load (filename)\n",
    "    ptt = torch.from_numpy (npt).permute (0, 3, 1, 2)\n",
    "    return ptt\n",
    "\n",
    "data_util = DataUtils (Data_Utils_Config(downscale_res=256))\n",
    "data_util.preprocess_images_in_folder (\"./dummy_tests/RawTest\", dest=\"./dummy_tests/pre_procced\")\n",
    "data_util.normalized_images_to_shards (\"./dummy_tests/pre_procced\", dest_shards=\"./dummy_tests/test_shards\", shard_batch_size=51)\n"
   ]
  },
  {
   "cell_type": "code",
   "execution_count": 2,
   "metadata": {},
   "outputs": [
    {
     "name": "stdout",
     "output_type": "stream",
     "text": [
      "loading shard ./dummy_tests/test_shards\\shard_train_0001.npy\n",
      "saved ./dummy_tests/recons/neural_recon_0000.png\n",
      "saved ./dummy_tests/recons/neural_recon_0001.png\n",
      "saved ./dummy_tests/recons/neural_recon_0002.png\n",
      "saved ./dummy_tests/recons/neural_recon_0003.png\n",
      "saved ./dummy_tests/recons/neural_recon_0004.png\n",
      "saved ./dummy_tests/recons/neural_recon_0005.png\n",
      "saved ./dummy_tests/recons/neural_recon_0006.png\n",
      "saved ./dummy_tests/recons/neural_recon_0007.png\n",
      "saved ./dummy_tests/recons/neural_recon_0008.png\n",
      "saved ./dummy_tests/recons/neural_recon_0009.png\n",
      "saved ./dummy_tests/recons/neural_recon_0010.png\n",
      "saved ./dummy_tests/recons/neural_recon_0011.png\n",
      "saved ./dummy_tests/recons/neural_recon_0012.png\n",
      "saved ./dummy_tests/recons/neural_recon_0013.png\n",
      "saved ./dummy_tests/recons/neural_recon_0014.png\n",
      "saved ./dummy_tests/recons/neural_recon_0015.png\n",
      "saved ./dummy_tests/recons/neural_recon_0016.png\n",
      "saved ./dummy_tests/recons/neural_recon_0017.png\n",
      "saved ./dummy_tests/recons/neural_recon_0018.png\n",
      "saved ./dummy_tests/recons/neural_recon_0019.png\n",
      "saved ./dummy_tests/recons/neural_recon_0020.png\n",
      "saved ./dummy_tests/recons/neural_recon_0021.png\n",
      "saved ./dummy_tests/recons/neural_recon_0022.png\n",
      "saved ./dummy_tests/recons/neural_recon_0023.png\n",
      "saved ./dummy_tests/recons/neural_recon_0024.png\n",
      "saved ./dummy_tests/recons/neural_recon_0025.png\n",
      "saved ./dummy_tests/recons/neural_recon_0026.png\n",
      "saved ./dummy_tests/recons/neural_recon_0027.png\n",
      "saved ./dummy_tests/recons/neural_recon_0028.png\n",
      "saved ./dummy_tests/recons/neural_recon_0029.png\n",
      "saved ./dummy_tests/recons/neural_recon_0030.png\n",
      "saved ./dummy_tests/recons/neural_recon_0031.png\n",
      "saved ./dummy_tests/recons/neural_recon_0032.png\n",
      "saved ./dummy_tests/recons/neural_recon_0033.png\n",
      "saved ./dummy_tests/recons/neural_recon_0034.png\n",
      "saved ./dummy_tests/recons/neural_recon_0035.png\n",
      "saved ./dummy_tests/recons/neural_recon_0036.png\n",
      "saved ./dummy_tests/recons/neural_recon_0037.png\n",
      "saved ./dummy_tests/recons/neural_recon_0038.png\n",
      "saved ./dummy_tests/recons/neural_recon_0039.png\n",
      "saved ./dummy_tests/recons/neural_recon_0040.png\n",
      "saved ./dummy_tests/recons/neural_recon_0041.png\n",
      "saved ./dummy_tests/recons/neural_recon_0042.png\n",
      "saved ./dummy_tests/recons/neural_recon_0043.png\n",
      "saved ./dummy_tests/recons/neural_recon_0044.png\n",
      "saved ./dummy_tests/recons/neural_recon_0045.png\n",
      "saved ./dummy_tests/recons/neural_recon_0046.png\n",
      "saved ./dummy_tests/recons/neural_recon_0047.png\n",
      "saved ./dummy_tests/recons/neural_recon_0048.png\n",
      "saved ./dummy_tests/recons/neural_recon_0049.png\n",
      "saved ./dummy_tests/recons/neural_recon_0050.png\n",
      "torch.float16 torch.Size([51, 3, 256, 256])\n",
      "loading shard ./dummy_tests/test_shards\\shard_train_0002.npy\n",
      "saved ./dummy_tests/recons/neural_recon_0051.png\n",
      "saved ./dummy_tests/recons/neural_recon_0052.png\n",
      "saved ./dummy_tests/recons/neural_recon_0053.png\n",
      "saved ./dummy_tests/recons/neural_recon_0054.png\n",
      "saved ./dummy_tests/recons/neural_recon_0055.png\n",
      "saved ./dummy_tests/recons/neural_recon_0056.png\n",
      "saved ./dummy_tests/recons/neural_recon_0057.png\n",
      "saved ./dummy_tests/recons/neural_recon_0058.png\n",
      "saved ./dummy_tests/recons/neural_recon_0059.png\n",
      "saved ./dummy_tests/recons/neural_recon_0060.png\n",
      "saved ./dummy_tests/recons/neural_recon_0061.png\n",
      "saved ./dummy_tests/recons/neural_recon_0062.png\n",
      "saved ./dummy_tests/recons/neural_recon_0063.png\n",
      "saved ./dummy_tests/recons/neural_recon_0064.png\n",
      "saved ./dummy_tests/recons/neural_recon_0065.png\n",
      "saved ./dummy_tests/recons/neural_recon_0066.png\n",
      "saved ./dummy_tests/recons/neural_recon_0067.png\n",
      "saved ./dummy_tests/recons/neural_recon_0068.png\n",
      "saved ./dummy_tests/recons/neural_recon_0069.png\n",
      "saved ./dummy_tests/recons/neural_recon_0070.png\n",
      "saved ./dummy_tests/recons/neural_recon_0071.png\n",
      "saved ./dummy_tests/recons/neural_recon_0072.png\n",
      "saved ./dummy_tests/recons/neural_recon_0073.png\n",
      "saved ./dummy_tests/recons/neural_recon_0074.png\n",
      "saved ./dummy_tests/recons/neural_recon_0075.png\n",
      "saved ./dummy_tests/recons/neural_recon_0076.png\n",
      "torch.float16 torch.Size([26, 3, 256, 256])\n",
      "loading shard ./dummy_tests/test_shards\\shard_val_0000.npy\n",
      "saved ./dummy_tests/recons/neural_recon_0077.png\n",
      "saved ./dummy_tests/recons/neural_recon_0078.png\n",
      "saved ./dummy_tests/recons/neural_recon_0079.png\n",
      "saved ./dummy_tests/recons/neural_recon_0080.png\n",
      "saved ./dummy_tests/recons/neural_recon_0081.png\n",
      "saved ./dummy_tests/recons/neural_recon_0082.png\n",
      "saved ./dummy_tests/recons/neural_recon_0083.png\n",
      "saved ./dummy_tests/recons/neural_recon_0084.png\n",
      "saved ./dummy_tests/recons/neural_recon_0085.png\n",
      "saved ./dummy_tests/recons/neural_recon_0086.png\n",
      "saved ./dummy_tests/recons/neural_recon_0087.png\n",
      "saved ./dummy_tests/recons/neural_recon_0088.png\n",
      "saved ./dummy_tests/recons/neural_recon_0089.png\n",
      "saved ./dummy_tests/recons/neural_recon_0090.png\n",
      "saved ./dummy_tests/recons/neural_recon_0091.png\n",
      "saved ./dummy_tests/recons/neural_recon_0092.png\n",
      "saved ./dummy_tests/recons/neural_recon_0093.png\n",
      "saved ./dummy_tests/recons/neural_recon_0094.png\n",
      "saved ./dummy_tests/recons/neural_recon_0095.png\n",
      "saved ./dummy_tests/recons/neural_recon_0096.png\n",
      "saved ./dummy_tests/recons/neural_recon_0097.png\n",
      "saved ./dummy_tests/recons/neural_recon_0098.png\n",
      "saved ./dummy_tests/recons/neural_recon_0099.png\n",
      "saved ./dummy_tests/recons/neural_recon_0100.png\n",
      "saved ./dummy_tests/recons/neural_recon_0101.png\n",
      "saved ./dummy_tests/recons/neural_recon_0102.png\n",
      "saved ./dummy_tests/recons/neural_recon_0103.png\n",
      "saved ./dummy_tests/recons/neural_recon_0104.png\n",
      "saved ./dummy_tests/recons/neural_recon_0105.png\n",
      "saved ./dummy_tests/recons/neural_recon_0106.png\n",
      "saved ./dummy_tests/recons/neural_recon_0107.png\n",
      "saved ./dummy_tests/recons/neural_recon_0108.png\n",
      "saved ./dummy_tests/recons/neural_recon_0109.png\n",
      "saved ./dummy_tests/recons/neural_recon_0110.png\n",
      "saved ./dummy_tests/recons/neural_recon_0111.png\n",
      "saved ./dummy_tests/recons/neural_recon_0112.png\n",
      "saved ./dummy_tests/recons/neural_recon_0113.png\n",
      "saved ./dummy_tests/recons/neural_recon_0114.png\n",
      "saved ./dummy_tests/recons/neural_recon_0115.png\n",
      "saved ./dummy_tests/recons/neural_recon_0116.png\n",
      "saved ./dummy_tests/recons/neural_recon_0117.png\n",
      "saved ./dummy_tests/recons/neural_recon_0118.png\n",
      "saved ./dummy_tests/recons/neural_recon_0119.png\n",
      "saved ./dummy_tests/recons/neural_recon_0120.png\n",
      "saved ./dummy_tests/recons/neural_recon_0121.png\n",
      "saved ./dummy_tests/recons/neural_recon_0122.png\n",
      "saved ./dummy_tests/recons/neural_recon_0123.png\n",
      "saved ./dummy_tests/recons/neural_recon_0124.png\n",
      "saved ./dummy_tests/recons/neural_recon_0125.png\n",
      "saved ./dummy_tests/recons/neural_recon_0126.png\n",
      "saved ./dummy_tests/recons/neural_recon_0127.png\n",
      "torch.float16 torch.Size([51, 3, 256, 256])\n"
     ]
    }
   ],
   "source": [
    "import os\n",
    "src_shards = \"./dummy_tests/test_shards\"\n",
    "shards = []\n",
    "shards = (os.listdir(src_shards))\n",
    "\n",
    "\n",
    "\n",
    "for i, shard in enumerate(shards):\n",
    "    shard_path = os.path.join (src_shards, shard)\n",
    "    print (f\"loading shard {shard_path}\")\n",
    "    tokens = load_tokens (shard_path)\n",
    "    data_util.tensor_to_image (tokens, \"./dummy_tests/recons\", \"neural_recon\")\n",
    "    print (tokens.dtype, tokens.shape)"
   ]
  },
  {
   "cell_type": "code",
   "execution_count": 3,
   "metadata": {},
   "outputs": [
    {
     "data": {
      "text/plain": [
       "torch.Size([51, 3, 256, 256])"
      ]
     },
     "execution_count": 3,
     "metadata": {},
     "output_type": "execute_result"
    }
   ],
   "source": [
    "buf = tokens[0: 0+64]\n",
    "buf.shape"
   ]
  },
  {
   "cell_type": "code",
   "execution_count": 4,
   "metadata": {},
   "outputs": [
    {
     "data": {
      "text/plain": [
       "51"
      ]
     },
     "execution_count": 4,
     "metadata": {},
     "output_type": "execute_result"
    }
   ],
   "source": [
    "len(buf)"
   ]
  },
  {
   "cell_type": "code",
   "execution_count": 7,
   "metadata": {},
   "outputs": [
    {
     "data": {
      "text/plain": [
       "(torch.Size([5, 3, 256, 256]), torch.Size([5, 3, 256, 256]))"
      ]
     },
     "execution_count": 7,
     "metadata": {},
     "output_type": "execute_result"
    }
   ],
   "source": [
    "buf[0:5].shape, buf[5:10].shape"
   ]
  },
  {
   "cell_type": "code",
   "execution_count": 13,
   "metadata": {},
   "outputs": [],
   "source": [
    "a = torch.randn (64)\n",
    "b = a [0:555]"
   ]
  },
  {
   "cell_type": "code",
   "execution_count": 15,
   "metadata": {},
   "outputs": [
    {
     "data": {
      "text/plain": [
       "torch.Size([64])"
      ]
     },
     "execution_count": 15,
     "metadata": {},
     "output_type": "execute_result"
    }
   ],
   "source": [
    "b.shape"
   ]
  },
  {
   "cell_type": "code",
   "execution_count": 18,
   "metadata": {},
   "outputs": [
    {
     "data": {
      "text/plain": [
       "tensor(0.0541)"
      ]
     },
     "execution_count": 18,
     "metadata": {},
     "output_type": "execute_result"
    }
   ],
   "source": [
    "a= torch.randn (30, 30, 1)\n",
    "torch.mean(a)"
   ]
  },
  {
   "cell_type": "code",
   "execution_count": null,
   "metadata": {},
   "outputs": [],
   "source": []
  }
 ],
 "metadata": {
  "kernelspec": {
   "display_name": "tr",
   "language": "python",
   "name": "python3"
  },
  "language_info": {
   "codemirror_mode": {
    "name": "ipython",
    "version": 3
   },
   "file_extension": ".py",
   "mimetype": "text/x-python",
   "name": "python",
   "nbconvert_exporter": "python",
   "pygments_lexer": "ipython3",
   "version": "3.9.21"
  }
 },
 "nbformat": 4,
 "nbformat_minor": 2
}
