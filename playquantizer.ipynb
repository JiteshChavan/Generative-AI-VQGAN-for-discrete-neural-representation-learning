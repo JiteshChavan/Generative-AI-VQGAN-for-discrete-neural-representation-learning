{
 "cells": [
  {
   "cell_type": "code",
   "execution_count": 1,
   "metadata": {},
   "outputs": [],
   "source": [
    "import torch\n",
    "\n",
    "\n",
    "Ze_flat = torch.randn (2*16*16, 256) # BHW, C\n",
    "vs = torch.randn (100, 256) # Vs C\n",
    "\n",
    "distances = torch.sum(Ze_flat**2, dim=1, keepdim=True) + torch.sum(vs**2, dim=1) - 2*torch.matmul(Ze_flat, vs.t())"
   ]
  },
  {
   "cell_type": "code",
   "execution_count": 4,
   "metadata": {},
   "outputs": [
    {
     "data": {
      "text/plain": [
       "torch.Size([512, 100])"
      ]
     },
     "execution_count": 4,
     "metadata": {},
     "output_type": "execute_result"
    }
   ],
   "source": [
    "# (BHW, 1)                                      VS\n",
    "(torch.sum(Ze_flat**2, dim=1, keepdim=True) + torch.sum(vs**2, dim=1)- 2*torch.matmul(Ze_flat, vs.t())).shape"
   ]
  },
  {
   "cell_type": "code",
   "execution_count": 20,
   "metadata": {},
   "outputs": [],
   "source": [
    "import numpy as np\n",
    "import torch\n",
    "def load_tokens (filename):\n",
    "    npt = np.load (filename)\n",
    "    npt = npt.astype (np.float32)\n",
    "    ptt = torch.tensor (npt, dtype=torch.float32)\n",
    "    return ptt\n",
    "\n",
    "a = load_tokens (\"./shardifiedLatents/shard_0000.npy\")"
   ]
  },
  {
   "cell_type": "code",
   "execution_count": 21,
   "metadata": {},
   "outputs": [
    {
     "data": {
      "text/plain": [
       "torch.Size([800, 256])"
      ]
     },
     "execution_count": 21,
     "metadata": {},
     "output_type": "execute_result"
    }
   ],
   "source": [
    "a.shape"
   ]
  },
  {
   "cell_type": "code",
   "execution_count": 22,
   "metadata": {},
   "outputs": [],
   "source": [
    "b = load_tokens (\"./shards/shard_train_0001.npy\")"
   ]
  },
  {
   "cell_type": "code",
   "execution_count": 23,
   "metadata": {},
   "outputs": [
    {
     "data": {
      "text/plain": [
       "torch.Size([800, 3, 256, 256])"
      ]
     },
     "execution_count": 23,
     "metadata": {},
     "output_type": "execute_result"
    }
   ],
   "source": [
    "b.shape"
   ]
  },
  {
   "cell_type": "code",
   "execution_count": 14,
   "metadata": {},
   "outputs": [
    {
     "name": "stdout",
     "output_type": "stream",
     "text": [
      "torch.Size([768, 256])\n"
     ]
    }
   ],
   "source": [
    "tensor_list = []\n",
    "for _ in range(12):\n",
    "    tensor = torch.randn(64, 256)  # Replace this with your actual tensor\n",
    "    tensor_list.append(tensor)\n",
    "\n",
    "# Stack the tensors into a single tensor of shape (768, 256)\n",
    "result_tensor = torch.cat(tensor_list, dim=0)\n",
    "\n",
    "print(result_tensor.shape)  # Output: torch.S"
   ]
  },
  {
   "cell_type": "code",
   "execution_count": null,
   "metadata": {},
   "outputs": [],
   "source": []
  }
 ],
 "metadata": {
  "kernelspec": {
   "display_name": "tr",
   "language": "python",
   "name": "python3"
  },
  "language_info": {
   "codemirror_mode": {
    "name": "ipython",
    "version": 3
   },
   "file_extension": ".py",
   "mimetype": "text/x-python",
   "name": "python",
   "nbconvert_exporter": "python",
   "pygments_lexer": "ipython3",
   "version": "3.9.21"
  }
 },
 "nbformat": 4,
 "nbformat_minor": 2
}
