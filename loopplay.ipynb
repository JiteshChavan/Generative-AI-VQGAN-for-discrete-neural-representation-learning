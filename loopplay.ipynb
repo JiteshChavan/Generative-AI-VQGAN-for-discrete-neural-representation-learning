{
 "cells": [
  {
   "cell_type": "code",
   "execution_count": 3,
   "metadata": {},
   "outputs": [
    {
     "name": "stdout",
     "output_type": "stream",
     "text": [
      "1\n",
      "2\n",
      "3\n",
      "3\n"
     ]
    }
   ],
   "source": [
    "for stage in [1, 2 , 3]:\n",
    "    print (stage)\n",
    "print (stage)"
   ]
  },
  {
   "cell_type": "code",
   "execution_count": 4,
   "metadata": {},
   "outputs": [
    {
     "data": {
      "text/plain": [
       "ModuleList(\n",
       "  (0): ModuleList(\n",
       "    (0): Tanh()\n",
       "    (1): GELU(approximate='none')\n",
       "  )\n",
       ")"
      ]
     },
     "execution_count": 4,
     "metadata": {},
     "output_type": "execute_result"
    }
   ],
   "source": [
    "import torch\n",
    "import torch.nn as nn\n",
    "\n",
    "a = nn.ModuleList()\n",
    "\n",
    "sub_block = nn.ModuleList()\n",
    "sub_block.append (nn.Tanh())\n",
    "sub_block.append (nn.GELU())\n",
    "\n",
    "a.append(sub_block)"
   ]
  },
  {
   "cell_type": "code",
   "execution_count": 5,
   "metadata": {},
   "outputs": [
    {
     "data": {
      "text/plain": [
       "ModuleList(\n",
       "  (0): Tanh()\n",
       "  (1): GELU(approximate='none')\n",
       ")"
      ]
     },
     "execution_count": 5,
     "metadata": {},
     "output_type": "execute_result"
    }
   ],
   "source": [
    "a[0]"
   ]
  },
  {
   "cell_type": "code",
   "execution_count": 6,
   "metadata": {},
   "outputs": [
    {
     "data": {
      "text/plain": [
       "Tanh()"
      ]
     },
     "execution_count": 6,
     "metadata": {},
     "output_type": "execute_result"
    }
   ],
   "source": [
    "a[0][0]"
   ]
  },
  {
   "cell_type": "code",
   "execution_count": 7,
   "metadata": {},
   "outputs": [
    {
     "data": {
      "text/plain": [
       "GELU(approximate='none')"
      ]
     },
     "execution_count": 7,
     "metadata": {},
     "output_type": "execute_result"
    }
   ],
   "source": [
    "a[0][1]"
   ]
  },
  {
   "cell_type": "code",
   "execution_count": 8,
   "metadata": {},
   "outputs": [
    {
     "data": {
      "text/plain": [
       "(torch.Size([1, 1024, 16, 16]), torch.Size([1, 512, 32, 32]))"
      ]
     },
     "execution_count": 8,
     "metadata": {},
     "output_type": "execute_result"
    }
   ],
   "source": [
    "x = torch.randn (1, 1024, 16, 16)\n",
    "\n",
    "a = nn.ConvTranspose2d (1024, 512, 2, 2, 0)\n",
    "x.shape, a(x).shape"
   ]
  },
  {
   "cell_type": "code",
   "execution_count": 1,
   "metadata": {},
   "outputs": [
    {
     "data": {
      "text/plain": [
       "torch.Size([1, 1024, 16, 16])"
      ]
     },
     "execution_count": 1,
     "metadata": {},
     "output_type": "execute_result"
    }
   ],
   "source": [
    "import torch\n",
    "import torch.nn as nn\n",
    "from resnet_decoder import ResNetDecoder, ResNetDecoderConfig\n",
    "from resnet_encoder import ResNetEncoder, ResNetEncoderConfig\n",
    "\n",
    "enc = ResNetEncoder (ResNetEncoderConfig)\n",
    "\n",
    "dec = ResNetDecoder (ResNetDecoderConfig)\n",
    "enc.to('cuda')\n",
    "dec.to('cuda')\n",
    "\n",
    "x = torch.randn (1,3,256,256).to('cuda')\n",
    "\n",
    "xin = enc (x)\n",
    "xin.shape"
   ]
  },
  {
   "cell_type": "code",
   "execution_count": 2,
   "metadata": {},
   "outputs": [
    {
     "data": {
      "text/plain": [
       "(torch.Size([1, 3, 256, 256]),\n",
       " torch.Size([1, 1024, 16, 16]),\n",
       " torch.Size([1, 3, 256, 256]))"
      ]
     },
     "execution_count": 2,
     "metadata": {},
     "output_type": "execute_result"
    }
   ],
   "source": [
    "\n",
    "xout = dec (xin)\n",
    "\n",
    "x.shape, xin.shape, xout.shape"
   ]
  },
  {
   "cell_type": "code",
   "execution_count": null,
   "metadata": {},
   "outputs": [],
   "source": [
    "parameters = sum (p.numel() for p in enc.parameters())\n",
    "parameters += sum (p.numel() for p in dec.parameters())\n",
    "parameters"
   ]
  },
  {
   "cell_type": "code",
   "execution_count": 1,
   "metadata": {},
   "outputs": [
    {
     "name": "stdout",
     "output_type": "stream",
     "text": [
      "Sequential(\n",
      "  (0): GELU(approximate='none')\n",
      ")\n",
      "Sequential(\n",
      "  (1): Tanh()\n",
      ")\n"
     ]
    }
   ],
   "source": [
    "import torch\n",
    "import torch.nn as nn\n",
    "\n",
    "layers = [nn.GELU(), nn.Tanh(), nn.ReLU()]\n",
    "block = nn.Sequential (*layers)\n",
    "\n",
    "\n",
    "for i in range (len(block[:-1])):\n",
    "    print (block[i:i+1])"
   ]
  },
  {
   "cell_type": "code",
   "execution_count": null,
   "metadata": {},
   "outputs": [],
   "source": []
  }
 ],
 "metadata": {
  "kernelspec": {
   "display_name": "tr",
   "language": "python",
   "name": "python3"
  },
  "language_info": {
   "codemirror_mode": {
    "name": "ipython",
    "version": 3
   },
   "file_extension": ".py",
   "mimetype": "text/x-python",
   "name": "python",
   "nbconvert_exporter": "python",
   "pygments_lexer": "ipython3",
   "version": "3.9.21"
  }
 },
 "nbformat": 4,
 "nbformat_minor": 2
}
