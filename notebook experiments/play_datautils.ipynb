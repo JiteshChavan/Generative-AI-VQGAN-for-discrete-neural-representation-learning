{
 "cells": [
  {
   "cell_type": "markdown",
   "metadata": {},
   "source": [
    "### Data_Utils testrun\n",
    "- Preprocess imagesin in RawTest, store to pre_procced\n",
    "- normalize images in pre_procced and store to test_shards\n",
    "- load shard from test_shards and reconstruct in folder \"recons\""
   ]
  },
  {
   "cell_type": "code",
   "execution_count": 1,
   "metadata": {},
   "outputs": [
    {
     "name": "stdout",
     "output_type": "stream",
     "text": [
      "128 Images Processed and saved to: ./dummy_tests/pre_procced (assuming all were images in the 3 supported format)\n",
      "Saved shard 000 with 64 images.\n",
      "Saved shard 001 with 64 images.\n",
      "All images processed and saved in ./dummy_tests/test_shards.\n"
     ]
    }
   ],
   "source": [
    "from data_utils import Data_Utils_Config, DataUtils\n",
    "import torch\n",
    "import numpy as np\n",
    "\n",
    "def load_tokens (filename):\n",
    "    npt = np.load (filename)\n",
    "    ptt = torch.from_numpy (npt).permute (0, 3, 1, 2)\n",
    "    return ptt\n",
    "\n",
    "data_util = DataUtils (Data_Utils_Config(downscale_res=256))\n",
    "data_util.preprocess_images_in_folder (\"./dummy_tests/RawTest\", dest=\"./dummy_tests/pre_procced\")\n",
    "data_util.normalized_images_to_shards (\"./dummy_tests/pre_procced\", dest_shards=\"./dummy_tests/test_shards\", shard_batch_size=64)\n"
   ]
  },
  {
   "cell_type": "code",
   "execution_count": 2,
   "metadata": {},
   "outputs": [
    {
     "name": "stdout",
     "output_type": "stream",
     "text": [
      "loading shard ./dummy_tests/test_shards\\shard_train_0001.npy\n",
      "saved ./dummy_tests/recons/clone_0000.png\n",
      "saved ./dummy_tests/recons/clone_0001.png\n",
      "saved ./dummy_tests/recons/clone_0002.png\n",
      "saved ./dummy_tests/recons/clone_0003.png\n",
      "saved ./dummy_tests/recons/clone_0004.png\n",
      "saved ./dummy_tests/recons/clone_0005.png\n",
      "saved ./dummy_tests/recons/clone_0006.png\n",
      "saved ./dummy_tests/recons/clone_0007.png\n",
      "saved ./dummy_tests/recons/clone_0008.png\n",
      "saved ./dummy_tests/recons/clone_0009.png\n",
      "saved ./dummy_tests/recons/clone_0010.png\n",
      "saved ./dummy_tests/recons/clone_0011.png\n",
      "saved ./dummy_tests/recons/clone_0012.png\n",
      "saved ./dummy_tests/recons/clone_0013.png\n",
      "saved ./dummy_tests/recons/clone_0014.png\n",
      "saved ./dummy_tests/recons/clone_0015.png\n",
      "saved ./dummy_tests/recons/clone_0016.png\n",
      "saved ./dummy_tests/recons/clone_0017.png\n",
      "saved ./dummy_tests/recons/clone_0018.png\n",
      "saved ./dummy_tests/recons/clone_0019.png\n",
      "saved ./dummy_tests/recons/clone_0020.png\n",
      "saved ./dummy_tests/recons/clone_0021.png\n",
      "saved ./dummy_tests/recons/clone_0022.png\n",
      "saved ./dummy_tests/recons/clone_0023.png\n",
      "saved ./dummy_tests/recons/clone_0024.png\n",
      "saved ./dummy_tests/recons/clone_0025.png\n",
      "saved ./dummy_tests/recons/clone_0026.png\n",
      "saved ./dummy_tests/recons/clone_0027.png\n",
      "saved ./dummy_tests/recons/clone_0028.png\n",
      "saved ./dummy_tests/recons/clone_0029.png\n",
      "saved ./dummy_tests/recons/clone_0030.png\n",
      "saved ./dummy_tests/recons/clone_0031.png\n",
      "saved ./dummy_tests/recons/clone_0032.png\n",
      "saved ./dummy_tests/recons/clone_0033.png\n",
      "saved ./dummy_tests/recons/clone_0034.png\n",
      "saved ./dummy_tests/recons/clone_0035.png\n",
      "saved ./dummy_tests/recons/clone_0036.png\n",
      "saved ./dummy_tests/recons/clone_0037.png\n",
      "saved ./dummy_tests/recons/clone_0038.png\n",
      "saved ./dummy_tests/recons/clone_0039.png\n",
      "saved ./dummy_tests/recons/clone_0040.png\n",
      "saved ./dummy_tests/recons/clone_0041.png\n",
      "saved ./dummy_tests/recons/clone_0042.png\n",
      "saved ./dummy_tests/recons/clone_0043.png\n",
      "saved ./dummy_tests/recons/clone_0044.png\n",
      "saved ./dummy_tests/recons/clone_0045.png\n",
      "saved ./dummy_tests/recons/clone_0046.png\n",
      "saved ./dummy_tests/recons/clone_0047.png\n",
      "saved ./dummy_tests/recons/clone_0048.png\n",
      "saved ./dummy_tests/recons/clone_0049.png\n",
      "saved ./dummy_tests/recons/clone_0050.png\n",
      "saved ./dummy_tests/recons/clone_0051.png\n",
      "saved ./dummy_tests/recons/clone_0052.png\n",
      "saved ./dummy_tests/recons/clone_0053.png\n",
      "saved ./dummy_tests/recons/clone_0054.png\n",
      "saved ./dummy_tests/recons/clone_0055.png\n",
      "saved ./dummy_tests/recons/clone_0056.png\n",
      "saved ./dummy_tests/recons/clone_0057.png\n",
      "saved ./dummy_tests/recons/clone_0058.png\n",
      "saved ./dummy_tests/recons/clone_0059.png\n",
      "saved ./dummy_tests/recons/clone_0060.png\n",
      "saved ./dummy_tests/recons/clone_0061.png\n",
      "saved ./dummy_tests/recons/clone_0062.png\n",
      "saved ./dummy_tests/recons/clone_0063.png\n",
      "saved ./dummy_tests/recons/neural_0000.png\n",
      "saved ./dummy_tests/recons/neural_0001.png\n",
      "saved ./dummy_tests/recons/neural_0002.png\n",
      "saved ./dummy_tests/recons/neural_0003.png\n",
      "saved ./dummy_tests/recons/neural_0004.png\n",
      "saved ./dummy_tests/recons/neural_0005.png\n",
      "saved ./dummy_tests/recons/neural_0006.png\n",
      "saved ./dummy_tests/recons/neural_0007.png\n",
      "saved ./dummy_tests/recons/neural_0008.png\n",
      "saved ./dummy_tests/recons/neural_0009.png\n",
      "saved ./dummy_tests/recons/neural_0010.png\n",
      "saved ./dummy_tests/recons/neural_0011.png\n",
      "saved ./dummy_tests/recons/neural_0012.png\n",
      "saved ./dummy_tests/recons/neural_0013.png\n",
      "saved ./dummy_tests/recons/neural_0014.png\n",
      "saved ./dummy_tests/recons/neural_0015.png\n",
      "saved ./dummy_tests/recons/neural_0016.png\n",
      "saved ./dummy_tests/recons/neural_0017.png\n",
      "saved ./dummy_tests/recons/neural_0018.png\n",
      "saved ./dummy_tests/recons/neural_0019.png\n",
      "saved ./dummy_tests/recons/neural_0020.png\n",
      "saved ./dummy_tests/recons/neural_0021.png\n",
      "saved ./dummy_tests/recons/neural_0022.png\n",
      "saved ./dummy_tests/recons/neural_0023.png\n",
      "saved ./dummy_tests/recons/neural_0024.png\n",
      "saved ./dummy_tests/recons/neural_0025.png\n",
      "saved ./dummy_tests/recons/neural_0026.png\n",
      "saved ./dummy_tests/recons/neural_0027.png\n",
      "saved ./dummy_tests/recons/neural_0028.png\n",
      "saved ./dummy_tests/recons/neural_0029.png\n",
      "saved ./dummy_tests/recons/neural_0030.png\n",
      "saved ./dummy_tests/recons/neural_0031.png\n",
      "saved ./dummy_tests/recons/neural_0032.png\n",
      "saved ./dummy_tests/recons/neural_0033.png\n",
      "saved ./dummy_tests/recons/neural_0034.png\n",
      "saved ./dummy_tests/recons/neural_0035.png\n",
      "saved ./dummy_tests/recons/neural_0036.png\n",
      "saved ./dummy_tests/recons/neural_0037.png\n",
      "saved ./dummy_tests/recons/neural_0038.png\n",
      "saved ./dummy_tests/recons/neural_0039.png\n",
      "saved ./dummy_tests/recons/neural_0040.png\n",
      "saved ./dummy_tests/recons/neural_0041.png\n",
      "saved ./dummy_tests/recons/neural_0042.png\n",
      "saved ./dummy_tests/recons/neural_0043.png\n",
      "saved ./dummy_tests/recons/neural_0044.png\n",
      "saved ./dummy_tests/recons/neural_0045.png\n",
      "saved ./dummy_tests/recons/neural_0046.png\n",
      "saved ./dummy_tests/recons/neural_0047.png\n",
      "saved ./dummy_tests/recons/neural_0048.png\n",
      "saved ./dummy_tests/recons/neural_0049.png\n",
      "saved ./dummy_tests/recons/neural_0050.png\n",
      "saved ./dummy_tests/recons/neural_0051.png\n",
      "saved ./dummy_tests/recons/neural_0052.png\n",
      "saved ./dummy_tests/recons/neural_0053.png\n",
      "saved ./dummy_tests/recons/neural_0054.png\n",
      "saved ./dummy_tests/recons/neural_0055.png\n",
      "saved ./dummy_tests/recons/neural_0056.png\n",
      "saved ./dummy_tests/recons/neural_0057.png\n",
      "saved ./dummy_tests/recons/neural_0058.png\n",
      "saved ./dummy_tests/recons/neural_0059.png\n",
      "saved ./dummy_tests/recons/neural_0060.png\n",
      "saved ./dummy_tests/recons/neural_0061.png\n",
      "saved ./dummy_tests/recons/neural_0062.png\n",
      "saved ./dummy_tests/recons/neural_0063.png\n",
      "torch.float16 torch.Size([64, 3, 256, 256])\n",
      "loading shard ./dummy_tests/test_shards\\shard_val_0000.npy\n",
      "saved ./dummy_tests/recons/clone_0064.png\n",
      "saved ./dummy_tests/recons/clone_0065.png\n",
      "saved ./dummy_tests/recons/clone_0066.png\n",
      "saved ./dummy_tests/recons/clone_0067.png\n",
      "saved ./dummy_tests/recons/clone_0068.png\n",
      "saved ./dummy_tests/recons/clone_0069.png\n",
      "saved ./dummy_tests/recons/clone_0070.png\n",
      "saved ./dummy_tests/recons/clone_0071.png\n",
      "saved ./dummy_tests/recons/clone_0072.png\n",
      "saved ./dummy_tests/recons/clone_0073.png\n",
      "saved ./dummy_tests/recons/clone_0074.png\n",
      "saved ./dummy_tests/recons/clone_0075.png\n",
      "saved ./dummy_tests/recons/clone_0076.png\n",
      "saved ./dummy_tests/recons/clone_0077.png\n",
      "saved ./dummy_tests/recons/clone_0078.png\n",
      "saved ./dummy_tests/recons/clone_0079.png\n",
      "saved ./dummy_tests/recons/clone_0080.png\n",
      "saved ./dummy_tests/recons/clone_0081.png\n",
      "saved ./dummy_tests/recons/clone_0082.png\n",
      "saved ./dummy_tests/recons/clone_0083.png\n",
      "saved ./dummy_tests/recons/clone_0084.png\n",
      "saved ./dummy_tests/recons/clone_0085.png\n",
      "saved ./dummy_tests/recons/clone_0086.png\n",
      "saved ./dummy_tests/recons/clone_0087.png\n",
      "saved ./dummy_tests/recons/clone_0088.png\n",
      "saved ./dummy_tests/recons/clone_0089.png\n",
      "saved ./dummy_tests/recons/clone_0090.png\n",
      "saved ./dummy_tests/recons/clone_0091.png\n",
      "saved ./dummy_tests/recons/clone_0092.png\n",
      "saved ./dummy_tests/recons/clone_0093.png\n",
      "saved ./dummy_tests/recons/clone_0094.png\n",
      "saved ./dummy_tests/recons/clone_0095.png\n",
      "saved ./dummy_tests/recons/clone_0096.png\n",
      "saved ./dummy_tests/recons/clone_0097.png\n",
      "saved ./dummy_tests/recons/clone_0098.png\n",
      "saved ./dummy_tests/recons/clone_0099.png\n",
      "saved ./dummy_tests/recons/clone_0100.png\n",
      "saved ./dummy_tests/recons/clone_0101.png\n",
      "saved ./dummy_tests/recons/clone_0102.png\n",
      "saved ./dummy_tests/recons/clone_0103.png\n",
      "saved ./dummy_tests/recons/clone_0104.png\n",
      "saved ./dummy_tests/recons/clone_0105.png\n",
      "saved ./dummy_tests/recons/clone_0106.png\n",
      "saved ./dummy_tests/recons/clone_0107.png\n",
      "saved ./dummy_tests/recons/clone_0108.png\n",
      "saved ./dummy_tests/recons/clone_0109.png\n",
      "saved ./dummy_tests/recons/clone_0110.png\n",
      "saved ./dummy_tests/recons/clone_0111.png\n",
      "saved ./dummy_tests/recons/clone_0112.png\n",
      "saved ./dummy_tests/recons/clone_0113.png\n",
      "saved ./dummy_tests/recons/clone_0114.png\n",
      "saved ./dummy_tests/recons/clone_0115.png\n",
      "saved ./dummy_tests/recons/clone_0116.png\n",
      "saved ./dummy_tests/recons/clone_0117.png\n",
      "saved ./dummy_tests/recons/clone_0118.png\n",
      "saved ./dummy_tests/recons/clone_0119.png\n",
      "saved ./dummy_tests/recons/clone_0120.png\n",
      "saved ./dummy_tests/recons/clone_0121.png\n",
      "saved ./dummy_tests/recons/clone_0122.png\n",
      "saved ./dummy_tests/recons/clone_0123.png\n",
      "saved ./dummy_tests/recons/clone_0124.png\n",
      "saved ./dummy_tests/recons/clone_0125.png\n",
      "saved ./dummy_tests/recons/clone_0126.png\n",
      "saved ./dummy_tests/recons/clone_0127.png\n",
      "saved ./dummy_tests/recons/neural_0064.png\n",
      "saved ./dummy_tests/recons/neural_0065.png\n",
      "saved ./dummy_tests/recons/neural_0066.png\n",
      "saved ./dummy_tests/recons/neural_0067.png\n",
      "saved ./dummy_tests/recons/neural_0068.png\n",
      "saved ./dummy_tests/recons/neural_0069.png\n",
      "saved ./dummy_tests/recons/neural_0070.png\n",
      "saved ./dummy_tests/recons/neural_0071.png\n",
      "saved ./dummy_tests/recons/neural_0072.png\n",
      "saved ./dummy_tests/recons/neural_0073.png\n",
      "saved ./dummy_tests/recons/neural_0074.png\n",
      "saved ./dummy_tests/recons/neural_0075.png\n",
      "saved ./dummy_tests/recons/neural_0076.png\n",
      "saved ./dummy_tests/recons/neural_0077.png\n",
      "saved ./dummy_tests/recons/neural_0078.png\n",
      "saved ./dummy_tests/recons/neural_0079.png\n",
      "saved ./dummy_tests/recons/neural_0080.png\n",
      "saved ./dummy_tests/recons/neural_0081.png\n",
      "saved ./dummy_tests/recons/neural_0082.png\n",
      "saved ./dummy_tests/recons/neural_0083.png\n",
      "saved ./dummy_tests/recons/neural_0084.png\n",
      "saved ./dummy_tests/recons/neural_0085.png\n",
      "saved ./dummy_tests/recons/neural_0086.png\n",
      "saved ./dummy_tests/recons/neural_0087.png\n",
      "saved ./dummy_tests/recons/neural_0088.png\n",
      "saved ./dummy_tests/recons/neural_0089.png\n",
      "saved ./dummy_tests/recons/neural_0090.png\n",
      "saved ./dummy_tests/recons/neural_0091.png\n",
      "saved ./dummy_tests/recons/neural_0092.png\n",
      "saved ./dummy_tests/recons/neural_0093.png\n",
      "saved ./dummy_tests/recons/neural_0094.png\n",
      "saved ./dummy_tests/recons/neural_0095.png\n",
      "saved ./dummy_tests/recons/neural_0096.png\n",
      "saved ./dummy_tests/recons/neural_0097.png\n",
      "saved ./dummy_tests/recons/neural_0098.png\n",
      "saved ./dummy_tests/recons/neural_0099.png\n",
      "saved ./dummy_tests/recons/neural_0100.png\n",
      "saved ./dummy_tests/recons/neural_0101.png\n",
      "saved ./dummy_tests/recons/neural_0102.png\n",
      "saved ./dummy_tests/recons/neural_0103.png\n",
      "saved ./dummy_tests/recons/neural_0104.png\n",
      "saved ./dummy_tests/recons/neural_0105.png\n",
      "saved ./dummy_tests/recons/neural_0106.png\n",
      "saved ./dummy_tests/recons/neural_0107.png\n",
      "saved ./dummy_tests/recons/neural_0108.png\n",
      "saved ./dummy_tests/recons/neural_0109.png\n",
      "saved ./dummy_tests/recons/neural_0110.png\n",
      "saved ./dummy_tests/recons/neural_0111.png\n",
      "saved ./dummy_tests/recons/neural_0112.png\n",
      "saved ./dummy_tests/recons/neural_0113.png\n",
      "saved ./dummy_tests/recons/neural_0114.png\n",
      "saved ./dummy_tests/recons/neural_0115.png\n",
      "saved ./dummy_tests/recons/neural_0116.png\n",
      "saved ./dummy_tests/recons/neural_0117.png\n",
      "saved ./dummy_tests/recons/neural_0118.png\n",
      "saved ./dummy_tests/recons/neural_0119.png\n",
      "saved ./dummy_tests/recons/neural_0120.png\n",
      "saved ./dummy_tests/recons/neural_0121.png\n",
      "saved ./dummy_tests/recons/neural_0122.png\n",
      "saved ./dummy_tests/recons/neural_0123.png\n",
      "saved ./dummy_tests/recons/neural_0124.png\n",
      "saved ./dummy_tests/recons/neural_0125.png\n",
      "saved ./dummy_tests/recons/neural_0126.png\n",
      "saved ./dummy_tests/recons/neural_0127.png\n",
      "torch.float16 torch.Size([64, 3, 256, 256])\n"
     ]
    }
   ],
   "source": [
    "import os\n",
    "src_shards = \"./dummy_tests/test_shards\"\n",
    "shards = []\n",
    "shards = (os.listdir(src_shards))\n",
    "\n",
    "\n",
    "\n",
    "for i, shard in enumerate(shards):\n",
    "    shard_path = os.path.join (src_shards, shard)\n",
    "    print (f\"loading shard {shard_path}\")\n",
    "    tokens = load_tokens (shard_path)\n",
    "    data_util.tensor_to_image (tokens, \"./dummy_tests/recons\", \"clone\")\n",
    "    data_util.tensor_to_image (tokens, \"./dummy_tests/recons\", \"neural\")\n",
    "    print (tokens.dtype, tokens.shape)"
   ]
  },
  {
   "cell_type": "code",
   "execution_count": 3,
   "metadata": {},
   "outputs": [
    {
     "data": {
      "text/plain": [
       "torch.Size([51, 3, 256, 256])"
      ]
     },
     "execution_count": 3,
     "metadata": {},
     "output_type": "execute_result"
    }
   ],
   "source": [
    "buf = tokens[0: 0+64]\n",
    "buf.shape"
   ]
  },
  {
   "cell_type": "code",
   "execution_count": 4,
   "metadata": {},
   "outputs": [
    {
     "data": {
      "text/plain": [
       "51"
      ]
     },
     "execution_count": 4,
     "metadata": {},
     "output_type": "execute_result"
    }
   ],
   "source": [
    "len(buf)"
   ]
  },
  {
   "cell_type": "code",
   "execution_count": 7,
   "metadata": {},
   "outputs": [
    {
     "data": {
      "text/plain": [
       "(torch.Size([5, 3, 256, 256]), torch.Size([5, 3, 256, 256]))"
      ]
     },
     "execution_count": 7,
     "metadata": {},
     "output_type": "execute_result"
    }
   ],
   "source": [
    "buf[0:5].shape, buf[5:10].shape"
   ]
  },
  {
   "cell_type": "code",
   "execution_count": 13,
   "metadata": {},
   "outputs": [],
   "source": [
    "a = torch.randn (64)\n",
    "b = a [0:555]"
   ]
  },
  {
   "cell_type": "code",
   "execution_count": 15,
   "metadata": {},
   "outputs": [
    {
     "data": {
      "text/plain": [
       "torch.Size([64])"
      ]
     },
     "execution_count": 15,
     "metadata": {},
     "output_type": "execute_result"
    }
   ],
   "source": [
    "b.shape"
   ]
  },
  {
   "cell_type": "code",
   "execution_count": 18,
   "metadata": {},
   "outputs": [
    {
     "data": {
      "text/plain": [
       "tensor(0.0541)"
      ]
     },
     "execution_count": 18,
     "metadata": {},
     "output_type": "execute_result"
    }
   ],
   "source": [
    "a= torch.randn (30, 30, 1)\n",
    "torch.mean(a)"
   ]
  },
  {
   "cell_type": "code",
   "execution_count": null,
   "metadata": {},
   "outputs": [
    {
     "data": {
      "text/plain": [
       "1"
      ]
     },
     "execution_count": 2,
     "metadata": {},
     "output_type": "execute_result"
    }
   ],
   "source": [
    "from PIL import Image\n",
    "Image.LANCZOS"
   ]
  },
  {
   "cell_type": "code",
   "execution_count": 4,
   "metadata": {},
   "outputs": [
    {
     "name": "stdout",
     "output_type": "stream",
     "text": [
      "(591, 500)\n",
      "Transformed image size: (302, 256)\n"
     ]
    }
   ],
   "source": [
    "from torchvision import transforms\n",
    "from PIL import Image\n",
    "\n",
    "# Sample image\n",
    "image_path = \"./dummy_tests/RawTest/image_00001.jpg\"  # Replace with your image path\n",
    "image = Image.open(image_path)\n",
    "print (image.size)\n",
    "# Transform\n",
    "transform = transforms.Compose([\n",
    "    transforms.Resize(256),        # Resize smaller side to 256\n",
    "    #transforms.CenterCrop(256),    # Center crop to 256x256\n",
    "])\n",
    "\n",
    "result = transform(image)\n",
    "print(f\"Transformed image size: {result.size}\") "
   ]
  },
  {
   "cell_type": "code",
   "execution_count": 1,
   "metadata": {},
   "outputs": [
    {
     "name": "stdout",
     "output_type": "stream",
     "text": [
      "saved: shard_val_0000\n",
      "saved: shard_train_0001\n",
      "saved: shard_train_0002\n",
      "saved: shard_train_0003\n",
      "saved: shard_train_0004\n",
      "saved: shard_train_0005\n",
      "saved: shard_train_0006\n",
      "saved: shard_train_0007\n",
      "saved: shard_train_0008\n",
      "saved: shard_train_0009\n",
      "Final shard saved with 189 images.\n",
      "Shards saved in ./dummy_tests/shards\n"
     ]
    }
   ],
   "source": [
    "from data_utils import DataUtils, Data_Utils_Config\n",
    "\n",
    "shard_util = DataUtils (Data_Utils_Config)\n",
    "\n",
    "shard_util.process_images_in_folder ('./dummy_tests/RawTest', './dummy_tests/shards', 800)"
   ]
  },
  {
   "cell_type": "code",
   "execution_count": 3,
   "metadata": {},
   "outputs": [
    {
     "data": {
      "text/plain": [
       "(torch.Size([64, 3, 256, 256]), torch.float32)"
      ]
     },
     "execution_count": 3,
     "metadata": {},
     "output_type": "execute_result"
    }
   ],
   "source": [
    "import numpy as np\n",
    "import torch\n",
    "\n",
    "a = load_tokens (\"./dummy_tests/shards/shard_val_0000.npy\")\n",
    "a.shape, a.dtype"
   ]
  },
  {
   "cell_type": "code",
   "execution_count": 4,
   "metadata": {},
   "outputs": [
    {
     "name": "stdout",
     "output_type": "stream",
     "text": [
      "saved ./dummy_tests/recons/clone_0000.png\n",
      "saved ./dummy_tests/recons/clone_0001.png\n",
      "saved ./dummy_tests/recons/clone_0002.png\n",
      "saved ./dummy_tests/recons/clone_0003.png\n",
      "saved ./dummy_tests/recons/clone_0004.png\n",
      "saved ./dummy_tests/recons/clone_0005.png\n",
      "saved ./dummy_tests/recons/clone_0006.png\n",
      "saved ./dummy_tests/recons/clone_0007.png\n",
      "saved ./dummy_tests/recons/clone_0008.png\n",
      "saved ./dummy_tests/recons/clone_0009.png\n",
      "saved ./dummy_tests/recons/clone_0010.png\n",
      "saved ./dummy_tests/recons/clone_0011.png\n",
      "saved ./dummy_tests/recons/clone_0012.png\n",
      "saved ./dummy_tests/recons/clone_0013.png\n",
      "saved ./dummy_tests/recons/clone_0014.png\n",
      "saved ./dummy_tests/recons/clone_0015.png\n",
      "saved ./dummy_tests/recons/clone_0016.png\n",
      "saved ./dummy_tests/recons/clone_0017.png\n",
      "saved ./dummy_tests/recons/clone_0018.png\n",
      "saved ./dummy_tests/recons/clone_0019.png\n",
      "saved ./dummy_tests/recons/clone_0020.png\n",
      "saved ./dummy_tests/recons/clone_0021.png\n",
      "saved ./dummy_tests/recons/clone_0022.png\n",
      "saved ./dummy_tests/recons/clone_0023.png\n",
      "saved ./dummy_tests/recons/clone_0024.png\n",
      "saved ./dummy_tests/recons/clone_0025.png\n",
      "saved ./dummy_tests/recons/clone_0026.png\n",
      "saved ./dummy_tests/recons/clone_0027.png\n",
      "saved ./dummy_tests/recons/clone_0028.png\n",
      "saved ./dummy_tests/recons/clone_0029.png\n",
      "saved ./dummy_tests/recons/clone_0030.png\n",
      "saved ./dummy_tests/recons/clone_0031.png\n",
      "saved ./dummy_tests/recons/clone_0032.png\n",
      "saved ./dummy_tests/recons/clone_0033.png\n",
      "saved ./dummy_tests/recons/clone_0034.png\n",
      "saved ./dummy_tests/recons/clone_0035.png\n",
      "saved ./dummy_tests/recons/clone_0036.png\n",
      "saved ./dummy_tests/recons/clone_0037.png\n",
      "saved ./dummy_tests/recons/clone_0038.png\n",
      "saved ./dummy_tests/recons/clone_0039.png\n",
      "saved ./dummy_tests/recons/clone_0040.png\n",
      "saved ./dummy_tests/recons/clone_0041.png\n",
      "saved ./dummy_tests/recons/clone_0042.png\n",
      "saved ./dummy_tests/recons/clone_0043.png\n",
      "saved ./dummy_tests/recons/clone_0044.png\n",
      "saved ./dummy_tests/recons/clone_0045.png\n",
      "saved ./dummy_tests/recons/clone_0046.png\n",
      "saved ./dummy_tests/recons/clone_0047.png\n",
      "saved ./dummy_tests/recons/clone_0048.png\n",
      "saved ./dummy_tests/recons/clone_0049.png\n",
      "saved ./dummy_tests/recons/clone_0050.png\n",
      "saved ./dummy_tests/recons/clone_0051.png\n",
      "saved ./dummy_tests/recons/clone_0052.png\n",
      "saved ./dummy_tests/recons/clone_0053.png\n",
      "saved ./dummy_tests/recons/clone_0054.png\n",
      "saved ./dummy_tests/recons/clone_0055.png\n",
      "saved ./dummy_tests/recons/clone_0056.png\n",
      "saved ./dummy_tests/recons/clone_0057.png\n",
      "saved ./dummy_tests/recons/clone_0058.png\n",
      "saved ./dummy_tests/recons/clone_0059.png\n",
      "saved ./dummy_tests/recons/clone_0060.png\n",
      "saved ./dummy_tests/recons/clone_0061.png\n",
      "saved ./dummy_tests/recons/clone_0062.png\n",
      "saved ./dummy_tests/recons/clone_0063.png\n"
     ]
    }
   ],
   "source": [
    "shard_util.tensor_to_image (a, \"./dummy_tests/recons\", \"clone\")"
   ]
  },
  {
   "cell_type": "code",
   "execution_count": 2,
   "metadata": {},
   "outputs": [
    {
     "data": {
      "text/plain": [
       "7"
      ]
     },
     "execution_count": 2,
     "metadata": {},
     "output_type": "execute_result"
    }
   ],
   "source": [
    "int(7.8)"
   ]
  },
  {
   "cell_type": "code",
   "execution_count": null,
   "metadata": {},
   "outputs": [],
   "source": []
  }
 ],
 "metadata": {
  "kernelspec": {
   "display_name": "tr",
   "language": "python",
   "name": "python3"
  },
  "language_info": {
   "codemirror_mode": {
    "name": "ipython",
    "version": 3
   },
   "file_extension": ".py",
   "mimetype": "text/x-python",
   "name": "python",
   "nbconvert_exporter": "python",
   "pygments_lexer": "ipython3",
   "version": "3.9.21"
  }
 },
 "nbformat": 4,
 "nbformat_minor": 2
}
