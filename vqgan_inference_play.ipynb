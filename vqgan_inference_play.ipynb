{
 "cells": [
  {
   "cell_type": "code",
   "execution_count": 1,
   "metadata": {},
   "outputs": [
    {
     "name": "stderr",
     "output_type": "stream",
     "text": [
      "C:\\Users\\Zen\\AppData\\Local\\Temp\\ipykernel_13848\\3267748321.py:24: FutureWarning: You are using `torch.load` with `weights_only=False` (the current default value), which uses the default pickle module implicitly. It is possible to construct malicious pickle data which will execute arbitrary code during unpickling (See https://github.com/pytorch/pytorch/blob/main/SECURITY.md#untrusted-models for more details). In a future release, the default value for `weights_only` will be flipped to `True`. This limits the functions that could be executed during unpickling. Arbitrary objects will no longer be allowed to be loaded via this mode unless they are explicitly allowlisted by the user via `torch.serialization.add_safe_globals`. We recommend you start setting `weights_only=True` for any use case where you don't have full control of the loaded file. Please open an issue on GitHub for any issues related to this experimental feature.\n",
      "  checkpoint = torch.load (\"resnet_logs/model_100000.pt\")\n"
     ]
    }
   ],
   "source": [
    "import sys\n",
    "import os\n",
    "import numpy as np\n",
    "import torch\n",
    "\n",
    "pretrained_model_checkpoint_path = \"resnet_logs/model_100000.pt\"\n",
    "inference_shard_path = \"./plots/shard_val_0.npy\"\n",
    "inference_path = \"./plots\"\n",
    "\n",
    "\n",
    "device = 'cpu'\n",
    "if torch.cuda.is_available():\n",
    "    device = 'cuda'\n",
    "elif hasattr(torch.backends, \"mps\") and torch.backends.mps.is_available():\n",
    "    device = 'mps'\n",
    "print (f\"using device: {device}\")\n",
    "\n",
    "# Add the root folder to Python's module search path\n",
    "sys.path.append(os.path.abspath(\"..\"))\n",
    "\n",
    "\n",
    "import torch\n",
    "import torch.nn as nn\n",
    "import torch.nn.functional as F\n",
    "\n",
    "from resnet_vqgan import VQGan\n",
    "from data_utils import DataUtils, Data_Utils_Config\n",
    "\n",
    "def load_tokens (file_path):\n",
    "    assert os.path.exists (file_path)\n",
    "    npt = np.load (file_path)\n",
    "    npt = npt.astype(np.float32)\n",
    "    ptt = torch.tensor(npt, dtype=torch.float32)\n",
    "    return ptt\n",
    "\n",
    "model = VQGan ().eval()\n",
    "checkpoint = torch.load (pretrained_model_checkpoint_path)\n",
    "model.load_state_dict(checkpoint['vqgan_model'])\n",
    "\n",
    "render_util = DataUtils (Data_Utils_Config)\n",
    "\n",
    "model.to('cuda')\n",
    "\n",
    "idx= load_tokens (inference_shard_path)\n",
    "idx = idx.to('cuda')\n",
    "\n",
    "#for image in idx:\n",
    "    \n",
    "\n",
    "vq_loss, encoding_indices, reconstructed_image = model (idx)\n",
    "\n",
    "render_util.tensor_to_image(reconstructed_image, inference_path, \"neural\")\n",
    "\n",
    "\n"
   ]
  },
  {
   "cell_type": "code",
   "execution_count": 7,
   "metadata": {},
   "outputs": [
    {
     "name": "stdout",
     "output_type": "stream",
     "text": [
      "torch.Size([3, 256, 256])\n",
      "torch.Size([3, 256, 256])\n",
      "torch.Size([3, 256, 256])\n",
      "torch.Size([3, 256, 256])\n",
      "torch.Size([3, 256, 256])\n",
      "torch.Size([3, 256, 256])\n",
      "torch.Size([3, 256, 256])\n",
      "torch.Size([3, 256, 256])\n"
     ]
    }
   ],
   "source": [
    "for image in idx:\n",
    "    print (image.shape)"
   ]
  },
  {
   "cell_type": "code",
   "execution_count": null,
   "metadata": {},
   "outputs": [],
   "source": []
  }
 ],
 "metadata": {
  "kernelspec": {
   "display_name": "tr",
   "language": "python",
   "name": "python3"
  },
  "language_info": {
   "codemirror_mode": {
    "name": "ipython",
    "version": 3
   },
   "file_extension": ".py",
   "mimetype": "text/x-python",
   "name": "python",
   "nbconvert_exporter": "python",
   "pygments_lexer": "ipython3",
   "version": "3.9.21"
  }
 },
 "nbformat": 4,
 "nbformat_minor": 2
}
